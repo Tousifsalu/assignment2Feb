{
 "cells": [
  {
   "cell_type": "markdown",
   "id": "47deb04d-1470-41e6-aba7-f75aa896a9d5",
   "metadata": {},
   "source": [
    "Ques 1 - Explain with an example each when to use a for loop and a while loop ?\n",
    "Ans- For loop: A for loop is a control flow statement that executes code repeatedly for a particular number of iterations. In this control flow statement, the keyword used is for. The for loop is used when the number of iterations is already known.\n",
    "     While loop: A loop that executes a single statement or a group of statements for the given true condition. The keyword used to represent this loop is \"while\". A \"while\" loop is used when the number of iterations is unknown. The statement repeats itself till the boolean value becomes false. In a while loop, the condition is tested at the start, also known as the pre-test loop."
   ]
  },
  {
   "cell_type": "code",
   "execution_count": 7,
   "id": "9be2d5c7-1485-4401-91a6-df1c2b3f21c4",
   "metadata": {},
   "outputs": [
    {
     "name": "stdin",
     "output_type": "stream",
     "text": [
      "enter your limit 10\n"
     ]
    },
    {
     "data": {
      "text/plain": [
       "55"
      ]
     },
     "execution_count": 7,
     "metadata": {},
     "output_type": "execute_result"
    }
   ],
   "source": [
    "#program of summation of 10 numbers using while loop\n",
    "n=int(input(\"enter your limit\"))\n",
    "starting_point= 0\n",
    "counter=1\n",
    "while counter<=n:\n",
    "    starting_point=starting_point+counter\n",
    "    counter=counter+1\n",
    "starting_point    \n",
    "    "
   ]
  },
  {
   "cell_type": "code",
   "execution_count": 8,
   "id": "51f921f4-7bcd-47ec-ae44-c69fdde4035e",
   "metadata": {},
   "outputs": [
    {
     "name": "stdout",
     "output_type": "stream",
     "text": [
      "55\n"
     ]
    }
   ],
   "source": [
    "#program of summation of 10 numbers using for loop\n",
    "sum=0\n",
    "for i in range(1,11):\n",
    "    sum=sum+i\n",
    "print(sum) "
   ]
  },
  {
   "cell_type": "code",
   "execution_count": 10,
   "id": "48729e47-89e4-44de-95ad-d10881ac2d25",
   "metadata": {},
   "outputs": [
    {
     "name": "stdin",
     "output_type": "stream",
     "text": [
      "enter your number 10\n"
     ]
    },
    {
     "data": {
      "text/plain": [
       "3628800"
      ]
     },
     "execution_count": 10,
     "metadata": {},
     "output_type": "execute_result"
    }
   ],
   "source": [
    "#multiplication of first 10 numbers using while loop\n",
    "z=int(input(\"enter your number\"))\n",
    "factorial=1\n",
    "while z>0:\n",
    "    factorial=factorial*z\n",
    "    z=z-1\n",
    "factorial    "
   ]
  },
  {
   "cell_type": "code",
   "execution_count": 9,
   "id": "ba304ab2-c6b1-4406-9057-1457a62c3f45",
   "metadata": {},
   "outputs": [
    {
     "name": "stdout",
     "output_type": "stream",
     "text": [
      "3628800\n"
     ]
    }
   ],
   "source": [
    "#multiplication of first 10 numbers using for loop\n",
    "result=1\n",
    "for i in range(1,11):\n",
    "    result=result*i\n",
    "print(result)"
   ]
  },
  {
   "cell_type": "code",
   "execution_count": 1,
   "id": "54678c7e-daf8-49e6-b543-36e6ecf3eaa3",
   "metadata": {},
   "outputs": [
    {
     "name": "stdin",
     "output_type": "stream",
     "text": [
      "enter number of units consumed 310\n"
     ]
    },
    {
     "name": "stdout",
     "output_type": "stream",
     "text": [
      "The electrucity bill is 2250.0\n"
     ]
    }
   ],
   "source": [
    "#Q3. Create a python program to compute the electricity bill for a household.\n",
    "units=int(input(\"enter number of units consumed\"))\n",
    "if units <= 100:\n",
    "    bill = units * 4.5\n",
    "elif units <= 200:\n",
    "    bill= 100*4.5 + (units-100)*6\n",
    "elif units<= 300:\n",
    "    bill= 100*4.5 + 100 * 6 + (units-200)*10\n",
    "else :\n",
    "    bill= 100*4.5 + 100 * 6 + 100*10 + (units-300)*20\n",
    "print(\"The electrucity bill is\",bill) \n"
   ]
  },
  {
   "cell_type": "code",
   "execution_count": 2,
   "id": "850cc51e-fa67-40d2-8310-33856f0135b7",
   "metadata": {},
   "outputs": [
    {
     "name": "stdout",
     "output_type": "stream",
     "text": [
      "[8, 64, 125, 216, 512, 1000, 1728, 2744, 3375, 4096, 5832, 8000, 10648, 13824, 15625, 17576, 21952, 27000, 32768, 39304, 42875, 46656, 54872, 64000, 74088, 85184, 91125, 97336, 110592, 125000, 140608, 157464, 166375, 175616, 195112, 216000, 238328, 262144, 274625, 287496, 314432, 343000, 373248, 405224, 421875, 438976, 474552, 512000, 551368, 592704, 614125, 636056, 681472, 729000, 778688, 830584, 857375, 884736, 941192, 1000000]\n"
     ]
    }
   ],
   "source": [
    "#Create a list of numbers from 1 to 100. Use for loop and while loop to calculate the cube of each \n",
    "number and if the cube of that number is divisible by 4 or 5 then append that number in a list and print \n",
    "that list.\n",
    "cubes = []\n",
    "for i in range(1, 101):\n",
    "    cube = i ** 3\n",
    "    if cube % 4 == 0 or cube % 5 == 0:\n",
    "        cubes.append(cube)\n",
    "print(cubes)"
   ]
  },
  {
   "cell_type": "code",
   "execution_count": 3,
   "id": "1a0a7459-6c8e-47cb-b132-834c9f39b2f2",
   "metadata": {},
   "outputs": [
    {
     "name": "stdout",
     "output_type": "stream",
     "text": [
      "[8, 64, 125, 216, 512, 1000, 1728, 2744, 3375, 4096, 5832, 8000, 10648, 13824, 15625, 17576, 21952, 27000, 32768, 39304, 42875, 46656, 54872, 64000, 74088, 85184, 91125, 97336, 110592, 125000, 140608, 157464, 166375, 175616, 195112, 216000, 238328, 262144, 274625, 287496, 314432, 343000, 373248, 405224, 421875, 438976, 474552, 512000, 551368, 592704, 614125, 636056, 681472, 729000, 778688, 830584, 857375, 884736, 941192, 1000000]\n"
     ]
    }
   ],
   "source": [
    "cubes = []\n",
    "i = 1\n",
    "while i <= 100:\n",
    "    cube = i ** 3\n",
    "    if cube % 4 == 0 or cube % 5 == 0:\n",
    "        cubes.append(cube)\n",
    "    i += 1\n",
    "print(cubes)"
   ]
  },
  {
   "cell_type": "code",
   "execution_count": 4,
   "id": "cf030abc-b819-4830-ab7e-fc7da7b46b79",
   "metadata": {},
   "outputs": [
    {
     "name": "stdout",
     "output_type": "stream",
     "text": [
      "Total number of vowels in the string:  12\n"
     ]
    }
   ],
   "source": [
    "string = \"I want to become a data scientist\"\n",
    "vowels = \"aeiouAEIOU\"\n",
    "count = 0\n",
    "\n",
    "for char in string:\n",
    "    if char in vowels:\n",
    "        count += 1\n",
    "\n",
    "print(\"Total number of vowels in the string: \", count)"
   ]
  },
  {
   "cell_type": "code",
   "execution_count": null,
   "id": "b53b48da-c20d-4c65-921d-53941d0acdc3",
   "metadata": {},
   "outputs": [],
   "source": []
  }
 ],
 "metadata": {
  "kernelspec": {
   "display_name": "Python 3 (ipykernel)",
   "language": "python",
   "name": "python3"
  },
  "language_info": {
   "codemirror_mode": {
    "name": "ipython",
    "version": 3
   },
   "file_extension": ".py",
   "mimetype": "text/x-python",
   "name": "python",
   "nbconvert_exporter": "python",
   "pygments_lexer": "ipython3",
   "version": "3.10.8"
  }
 },
 "nbformat": 4,
 "nbformat_minor": 5
}
